{
 "cells": [
  {
   "cell_type": "code",
   "execution_count": null,
   "id": "a8088bbd-e780-4954-989e-3bd83a09c3d0",
   "metadata": {},
   "outputs": [],
   "source": [
    "import pandas as pd\n",
    "import numpy as np\n",
    "import matplotlib.pyplot as plt\n",
    "import seaborn as sns"
   ]
  },
  {
   "cell_type": "code",
   "execution_count": null,
   "id": "a91e7932-fb07-41f9-86ab-1fa03111d53b",
   "metadata": {},
   "outputs": [],
   "source": [
    "df = pd.read_csv(\"raw_ebay.csv\")\n",
    "df.head(10)"
   ]
  },
  {
   "cell_type": "code",
   "execution_count": null,
   "id": "c55c81b3-01a6-4f46-93e8-acce955e233e",
   "metadata": {},
   "outputs": [],
   "source": [
    "df.info() #Columns names, counts and data types"
   ]
  },
  {
   "cell_type": "code",
   "execution_count": null,
   "id": "7e9d697a-a01e-44b1-af2f-a563c5a8d1cf",
   "metadata": {},
   "outputs": [],
   "source": [
    "df.describe() #getting descriptive statistics"
   ]
  },
  {
   "cell_type": "code",
   "execution_count": null,
   "id": "0db68d0c-1e37-49da-ad30-c9719ba9a791",
   "metadata": {},
   "outputs": [],
   "source": [
    "df.shape #count of columns and rows"
   ]
  },
  {
   "cell_type": "code",
   "execution_count": null,
   "id": "a95e40da-4eec-4846-a5be-f4d683555437",
   "metadata": {},
   "outputs": [],
   "source": [
    "df.isnull().sum() #how many absent rows"
   ]
  },
  {
   "cell_type": "code",
   "execution_count": null,
   "id": "7789ec29-553d-4074-896e-3b6e0ae51ed4",
   "metadata": {},
   "outputs": [],
   "source": [
    "#value convertion\n",
    "df['Screen_Size'] = pd.to_numeric(df['Screen_Size'], errors='coerce')\n",
    "df['RAM'] = pd.to_numeric(df['RAM'], errors='coerce')"
   ]
  },
  {
   "cell_type": "code",
   "execution_count": null,
   "id": "493f00ba-6ef9-41d4-8a72-3c491d081f1c",
   "metadata": {},
   "outputs": [],
   "source": [
    "#filling the missing values\n",
    "df['Screen_Size'] = df['Screen_Size'].fillna(df['Screen_Size'].mean())\n",
    "df['RAM'] = df['RAM'].fillna(df['RAM'].mean())\n",
    "df['Price'] = df['Price'].fillna(df['Price'].mean())"
   ]
  },
  {
   "cell_type": "code",
   "execution_count": null,
   "id": "19846cd1-e136-4d07-b012-44bc00ffdde1",
   "metadata": {},
   "outputs": [],
   "source": [
    "df.info()"
   ]
  },
  {
   "cell_type": "code",
   "execution_count": null,
   "id": "a0aea4e4-f729-4237-bc63-9d29eab3058a",
   "metadata": {
    "scrolled": true
   },
   "outputs": [],
   "source": [
    "# IQR calculating\n",
    "Q1 = df['Price'].quantile(0.25)\n",
    "Q3 = df['Price'].quantile(0.75)\n",
    "IQR = Q3 - Q1\n",
    "\n",
    "# Lower bound  and upper bound\n",
    "lower_bound = Q1 - 1.5 * IQR\n",
    "upper_bound = Q3 + 1.5 * IQR\n",
    "\n",
    "print(f\"Lower bound: {lower_bound}, Upper bound: {upper_bound}\")"
   ]
  },
  {
   "cell_type": "code",
   "execution_count": null,
   "id": "6743e3ea-e599-4981-882c-1b622c2356a4",
   "metadata": {},
   "outputs": [],
   "source": [
    "#Boxplot visualization to show min - max value and outliers.\n",
    "plt.figure(figsize=(6,4))\n",
    "sns.boxplot(x=df['Price'])\n",
    "plt.title(\"Price Dispersion Boxplot\")\n",
    "plt.show()"
   ]
  },
  {
   "cell_type": "code",
   "execution_count": null,
   "id": "ffba655b-f3ea-4ae5-9d54-58203fd5e773",
   "metadata": {},
   "outputs": [],
   "source": [
    "#looking for Q1 (the value under which 25% of data points) only (w/o IQR to see values under 25% of data)\n",
    "Q1_manual = df['Price'].quantile(0.25)\n",
    "print(f\"Lower quartile (Q1) manuel calculating: {Q1_manual}\")"
   ]
  },
  {
   "cell_type": "code",
   "execution_count": null,
   "id": "6e8e752b-364b-4e7d-b3d3-cf3cf3cc8f84",
   "metadata": {},
   "outputs": [],
   "source": [
    "#to filter outliers\n",
    "df_filtered = df[(df['Price'] >= lower_bound) & (df['Price'] <= upper_bound)]\n",
    "print(f\"Clear data set shape: {df_filtered.shape}\")"
   ]
  },
  {
   "cell_type": "code",
   "execution_count": null,
   "id": "c576a952-3f26-4abd-b5ab-26d14447e448",
   "metadata": {},
   "outputs": [],
   "source": [
    "sns.histplot(df_filtered['Price'], bins=30, kde=True)\n",
    "plt.title(\"Price Dispersion Boxplot\")\n",
    "plt.xlabel(\"Price\")\n",
    "plt.ylabel(\"Frequency \")\n",
    "plt.show()"
   ]
  },
  {
   "cell_type": "code",
   "execution_count": null,
   "id": "13cbccf8-bbc9-476a-875c-beff8d108bda",
   "metadata": {},
   "outputs": [],
   "source": [
    "#Non numeric values\n",
    "df_brand_avg = df.groupby(\"Brand\")[\"Price\"].mean().reset_index()\n",
    "\n",
    "plt.figure(figsize=(20,6))\n",
    "sns.barplot(x=\"Brand\", y=\"Price\", data=df_brand_avg)\n",
    "plt.xticks(rotation=90)\n",
    "plt.title(\"Brand-Based Median Prices\")\n",
    "plt.show()"
   ]
  },
  {
   "cell_type": "code",
   "execution_count": null,
   "id": "59599e11-2ade-49b0-a308-98afdccde7e0",
   "metadata": {},
   "outputs": [],
   "source": [
    "# Select numeric values\n",
    "df_numeric = df.select_dtypes(include='number')\n",
    "\n",
    "# Correlation matrix calculation\n",
    "correlation_matrix = df_numeric.corr()\n",
    "\n",
    "# Visulization\n",
    "plt.figure(figsize=(5,6))\n",
    "sns.heatmap(correlation_matrix, annot=True, cmap=\"coolwarm\", fmt=\".2f\", linewidths=0.5)\n",
    "plt.title(\"Correlation Matrix\")\n",
    "plt.show()\n",
    "\n"
   ]
  },
  {
   "cell_type": "code",
   "execution_count": null,
   "id": "f20e81d5-fe92-43fd-8bec-bd551dff99be",
   "metadata": {},
   "outputs": [],
   "source": [
    "#avarage prices for brand, RAM and Scree-Size\n",
    "pd.set_option('display.width', 200) \n",
    "print(\"=== Brand - Price ===\")\n",
    "print(df.groupby(\"Brand\")[\"Price\"].describe())\n",
    "\n",
    "print(\"\\n=== RAM - Price ===\")\n",
    "print(df.groupby(\"RAM\")[\"Price\"].describe())\n",
    "\n",
    "print(\"\\n=== Screen Size - Price ===\")\n",
    "print(df.groupby(\"Screen_Size\")[\"Price\"].describe())"
   ]
  },
  {
   "cell_type": "code",
   "execution_count": null,
   "id": "31c1cc5b-2b8c-47b9-b318-f71b2a35d039",
   "metadata": {},
   "outputs": [],
   "source": [
    "#how many products of the brands are there?\n",
    "df[\"Brand\"].value_counts()"
   ]
  },
  {
   "cell_type": "code",
   "execution_count": null,
   "id": "1df2e9e5-ef7a-4beb-95ac-d2f790a83065",
   "metadata": {},
   "outputs": [],
   "source": [
    "freq_table = df[\"Processor\"].value_counts()\n",
    "ratio_table = df[\"Processor\"].value_counts(normalize=True) * 100\n",
    "\n",
    "result = pd.DataFrame({\n",
    "    \"Frequences\": freq_table,\n",
    "    \"Ratio (%)\": ratio_table.round(2)\n",
    "})\n",
    "print(result)\n"
   ]
  },
  {
   "cell_type": "code",
   "execution_count": null,
   "id": "6183920b-0ec3-4683-8b35-397b3c6cee46",
   "metadata": {},
   "outputs": [],
   "source": [
    "#Train - Test"
   ]
  },
  {
   "cell_type": "code",
   "execution_count": null,
   "id": "d3ef327c-d910-44ea-adc9-e0f38889bf36",
   "metadata": {},
   "outputs": [],
   "source": [
    "#Filling brand's missing values\n",
    "df['Brand'] = df['Brand'].fillna(df['Brand'].mode()[0])\n",
    "# One-hot encoding for categoric variables\n",
    "df = pd.get_dummies(df, columns=['Brand'], drop_first=True)\n",
    "\n"
   ]
  },
  {
   "cell_type": "code",
   "execution_count": null,
   "id": "19e792a6-4a79-40f4-8edb-56693f18dcb9",
   "metadata": {},
   "outputs": [],
   "source": [
    "print(df.columns)"
   ]
  },
  {
   "cell_type": "code",
   "execution_count": null,
   "id": "baadb073-1f27-4809-bbcd-cc0621893205",
   "metadata": {},
   "outputs": [],
   "source": [
    "from sklearn.model_selection import train_test_split\n",
    "from sklearn.linear_model import LinearRegression\n",
    "from sklearn.ensemble import RandomForestRegressor\n",
    "from sklearn.metrics import mean_squared_error, r2_score\n",
    "import pandas as pd\n",
    "\n",
    "# Dependent variable\n",
    "brand_cols = [col for col in df.columns if col.startswith('Brand_')] #first, call all dummies abour brand\n",
    "X = df[brand_cols +['Screen_Size', 'RAM']]\n",
    "#Target variable\n",
    "y = df['Price']\n",
    "\n",
    "# Train-test (before model train!)\n",
    "X_train, X_test, y_train, y_test = train_test_split(X, y, test_size=0.2, random_state=42)\n",
    "\n",
    "# Model train\n",
    "model = LinearRegression()\n",
    "model.fit(X_train, y_train)\n",
    "\n",
    "# Tahmin\n",
    "y_pred = model.predict(X_test)\n",
    "\n",
    "# Performans değerlendirme\n",
    "mse = mean_squared_error(y_test, y_pred)\n",
    "r2 = r2_score(y_test, y_pred)\n",
    "\n",
    "print(f\"Mean squared error (MSE): {mse:.2f}\")\n",
    "print(f\"R-squared value: {r2:.2f}\")\n"
   ]
  },
  {
   "cell_type": "code",
   "execution_count": null,
   "id": "18457c03-f864-4bc2-8673-70e67ae4a964",
   "metadata": {},
   "outputs": [],
   "source": [
    "# Model train\n",
    "rf_model = RandomForestRegressor(n_estimators=100, random_state=42)\n",
    "rf_model.fit(X_train, y_train)\n",
    "\n",
    "# Prediction and score\n",
    "y_pred_rf = rf_model.predict(X_test)\n",
    "mse_rf = mean_squared_error(y_test, y_pred_rf)\n",
    "r2_rf = r2_score(y_test, y_pred_rf)\n",
    "\n",
    "print(f\"Random Forest - MSE: {mse_rf:.2f}, R²: {r2_rf:.2f}\")"
   ]
  },
  {
   "cell_type": "code",
   "execution_count": null,
   "id": "4b4a3be1-34c0-4298-8812-4a638cf24027",
   "metadata": {},
   "outputs": [],
   "source": [
    "#Comparing models\n",
    "from sklearn.model_selection import learning_curve\n",
    "\n",
    "models = {\n",
    "    \"Linear Regression\": LinearRegression(),\n",
    "    \"Random Forest\": RandomForestRegressor(random_state=42)\n",
    "}\n",
    "\n",
    "X = df_model = df[['RAM', 'Screen_Size']]\n",
    "y = df['Price']\n",
    "\n",
    "plt.figure(figsize=(12, 6))\n",
    "\n",
    "for name, model in models.items():\n",
    "    train_sizes, train_scores, test_scores = learning_curve(\n",
    "        model, X, y,\n",
    "        cv=5,\n",
    "        scoring='neg_mean_squared_error',  # veya 'r2'\n",
    "        train_sizes=np.linspace(0.1, 1.0, 5),\n",
    "        n_jobs=-1,\n",
    "        shuffle=True,\n",
    "        random_state=42\n",
    "    )\n",
    "\n",
    "    train_errors = -np.mean(train_scores, axis=1)\n",
    "    test_errors = -np.mean(test_scores, axis=1)\n",
    "\n",
    "    plt.plot(train_sizes, test_errors, 'o-', label=f'{name} Test MSE')\n",
    "    plt.plot(train_sizes, train_errors, 'o--', label=f'{name} Train MSE')\n",
    "\n",
    "plt.xlabel(\"Training Set Size\")\n",
    "plt.ylabel(\"MSE\")\n",
    "plt.title(\"Model Comparision and Learning Curves\")\n",
    "plt.legend()\n",
    "plt.grid(True)\n",
    "plt.tight_layout()\n",
    "plt.show()"
   ]
  },
  {
   "cell_type": "code",
   "execution_count": null,
   "id": "7658633d-9e1d-4837-a125-9b046ff59798",
   "metadata": {},
   "outputs": [],
   "source": [
    "# Feature importances\n",
    "importances = rf_model.feature_importances_\n",
    "feature_names = X.columns\n",
    "\n",
    "# Sort by DataFrame \n",
    "feat_importance_df = pd.DataFrame({'Feature': X_train.columns, 'Importance': importances})\n",
    "feat_importance_df = feat_importance_df.sort_values(by='Importance', ascending=False)\n",
    "\n",
    "plt.figure(figsize=(8, 9))\n",
    "sns.barplot(x='Importance', y='Feature', data=feat_importance_df, palette='viridis')\n",
    "plt.title('Random Forest - Feature Importance')\n",
    "plt.xlabel('Importance')\n",
    "plt.ylabel('Attributes')\n",
    "plt.tight_layout()\n",
    "plt.show()"
   ]
  },
  {
   "cell_type": "code",
   "execution_count": null,
   "id": "500b3ab9-10d4-43e5-80c7-1f299156db68",
   "metadata": {
    "scrolled": true
   },
   "outputs": [],
   "source": [
    "#Model optimisation\n",
    "from sklearn.ensemble import RandomForestRegressor\n",
    "from sklearn.model_selection import RandomizedSearchCV\n",
    "\n",
    "# Parameter dist.\n",
    "param_dist = {\n",
    "    'n_estimators': [100, 200, 300],\n",
    "    'max_depth': [None, 10, 20, 30],\n",
    "    'min_samples_split': [2, 5, 10],\n",
    "    'min_samples_leaf': [1, 2, 4],\n",
    "    'max_features': ['sqrt', 'log2', 0.5]\n",
    "}\n",
    "\n",
    "# Model and Randomized Search\n",
    "rf = RandomForestRegressor(random_state=42)\n",
    "random_search = RandomizedSearchCV(rf, param_distributions=param_dist,\n",
    "                                   n_iter=50, cv=5, scoring='neg_mean_squared_error',\n",
    "                                   n_jobs=-1, verbose=2, random_state=42)\n",
    "\n",
    "random_search.fit(X_train, y_train)\n",
    "\n",
    "# Best fitted model and score\n",
    "print(\"En iyi parametreler: \", random_search.best_params_)\n",
    "best_rf_model = random_search.best_estimator_\n",
    "\n",
    "# Test perform\n",
    "from sklearn.metrics import mean_squared_error, r2_score\n",
    "\n",
    "y_pred = best_rf_model.predict(X_test)\n",
    "mse = mean_squared_error(y_test, y_pred)\n",
    "r2 = r2_score(y_test, y_pred)\n",
    "\n",
    "print(f\"Optimized Random Forest - MSE: {mse:.2f}, R²: {r2:.2f}\")\n"
   ]
  }
 ],
 "metadata": {
  "kernelspec": {
   "display_name": "Python [conda env:base] *",
   "language": "python",
   "name": "conda-base-py"
  },
  "language_info": {
   "codemirror_mode": {
    "name": "ipython",
    "version": 3
   },
   "file_extension": ".py",
   "mimetype": "text/x-python",
   "name": "python",
   "nbconvert_exporter": "python",
   "pygments_lexer": "ipython3",
   "version": "3.12.7"
  }
 },
 "nbformat": 4,
 "nbformat_minor": 5
}
